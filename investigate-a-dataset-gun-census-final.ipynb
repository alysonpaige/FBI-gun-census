{
 "cells": [
  {
   "cell_type": "markdown",
   "metadata": {},
   "source": [
    "# US Census Data on Guns\n",
    "## Investigate a Dataset Project\n",
    "\n",
    "## Table of Contents\n",
    "<ul>\n",
    "<li><a href=\"#intro\">Introduction</a></li>\n",
    "<li><a href=\"#wrangling\">Data Wrangling</a></li>\n",
    "<li><a href=\"#eda\">Exploratory Data Analysis</a></li>\n",
    "<li><a href=\"#conclusions\">Conclusions</a></li>\n",
    "</ul>"
   ]
  },
  {
   "cell_type": "markdown",
   "metadata": {},
   "source": [
    "<a id='intro'></a>\n",
    "## Introduction\n",
    "\n",
    "This data comes from the FBI's National Instant Criminal Background Check System (NICS). The NICS is used to determine whether a prospective buyer is eligible to buy firearms or explosives. Gun shops call into this system to ensure that each customer does not have a criminal record or isn’t otherwise ineligible to make a purchase. The data has been supplemented with state level data from census.gov.\n",
    "\n",
    "We will conduct an analysis of US census data in relation to the FBI's NICS gun data by taking a micro approach and focusing on the state of Maryland.\n",
    "\n",
    "Questions that will be explored in this dataset are:\n",
    "* What was the highest year for gun sales in Maryland?\n",
    "* What was the most sold gun type in Maryland during the second highest year for gun sales?\n",
    "* What was Marylands gun per capita in 2016?"
   ]
  },
  {
   "cell_type": "code",
   "execution_count": 1,
   "metadata": {},
   "outputs": [],
   "source": [
    "# Imports\n",
    "import pandas as pd\n",
    "pd.options.mode.chained_assignment = None\n",
    "import numpy as np\n",
    "import matplotlib.pyplot as plt\n",
    "import seaborn as sns\n",
    "%matplotlib inline"
   ]
  },
  {
   "cell_type": "markdown",
   "metadata": {},
   "source": [
    "<a id='wrangling'></a>\n",
    "## Data Wrangling\n",
    "\n",
    "### General Properties"
   ]
  },
  {
   "cell_type": "code",
   "execution_count": 2,
   "metadata": {},
   "outputs": [],
   "source": [
    "# Opening and reading files\n",
    "census = pd.read_csv('us_census_data.csv')\n",
    "gun = pd.read_excel('gun_data.xlsx')"
   ]
  },
  {
   "cell_type": "code",
   "execution_count": 3,
   "metadata": {},
   "outputs": [
    {
     "name": "stdout",
     "output_type": "stream",
     "text": [
      "(12485, 27)\n"
     ]
    },
    {
     "data": {
      "text/html": [
       "<div>\n",
       "<style scoped>\n",
       "    .dataframe tbody tr th:only-of-type {\n",
       "        vertical-align: middle;\n",
       "    }\n",
       "\n",
       "    .dataframe tbody tr th {\n",
       "        vertical-align: top;\n",
       "    }\n",
       "\n",
       "    .dataframe thead th {\n",
       "        text-align: right;\n",
       "    }\n",
       "</style>\n",
       "<table border=\"1\" class=\"dataframe\">\n",
       "  <thead>\n",
       "    <tr style=\"text-align: right;\">\n",
       "      <th></th>\n",
       "      <th>month</th>\n",
       "      <th>state</th>\n",
       "      <th>permit</th>\n",
       "      <th>permit_recheck</th>\n",
       "      <th>handgun</th>\n",
       "      <th>long_gun</th>\n",
       "      <th>other</th>\n",
       "      <th>multiple</th>\n",
       "      <th>admin</th>\n",
       "      <th>prepawn_handgun</th>\n",
       "      <th>...</th>\n",
       "      <th>returned_other</th>\n",
       "      <th>rentals_handgun</th>\n",
       "      <th>rentals_long_gun</th>\n",
       "      <th>private_sale_handgun</th>\n",
       "      <th>private_sale_long_gun</th>\n",
       "      <th>private_sale_other</th>\n",
       "      <th>return_to_seller_handgun</th>\n",
       "      <th>return_to_seller_long_gun</th>\n",
       "      <th>return_to_seller_other</th>\n",
       "      <th>totals</th>\n",
       "    </tr>\n",
       "  </thead>\n",
       "  <tbody>\n",
       "    <tr>\n",
       "      <th>0</th>\n",
       "      <td>2017-09</td>\n",
       "      <td>Alabama</td>\n",
       "      <td>16717.0</td>\n",
       "      <td>0.0</td>\n",
       "      <td>5734.0</td>\n",
       "      <td>6320.0</td>\n",
       "      <td>221.0</td>\n",
       "      <td>317</td>\n",
       "      <td>0.0</td>\n",
       "      <td>15.0</td>\n",
       "      <td>...</td>\n",
       "      <td>0.0</td>\n",
       "      <td>0.0</td>\n",
       "      <td>0.0</td>\n",
       "      <td>9.0</td>\n",
       "      <td>16.0</td>\n",
       "      <td>3.0</td>\n",
       "      <td>0.0</td>\n",
       "      <td>0.0</td>\n",
       "      <td>3.0</td>\n",
       "      <td>32019</td>\n",
       "    </tr>\n",
       "  </tbody>\n",
       "</table>\n",
       "<p>1 rows × 27 columns</p>\n",
       "</div>"
      ],
      "text/plain": [
       "     month    state   permit  permit_recheck  handgun  long_gun  other  \\\n",
       "0  2017-09  Alabama  16717.0             0.0   5734.0    6320.0  221.0   \n",
       "\n",
       "   multiple  admin  prepawn_handgun  ...  returned_other  rentals_handgun  \\\n",
       "0       317    0.0             15.0  ...             0.0              0.0   \n",
       "\n",
       "   rentals_long_gun  private_sale_handgun  private_sale_long_gun  \\\n",
       "0               0.0                   9.0                   16.0   \n",
       "\n",
       "   private_sale_other  return_to_seller_handgun  return_to_seller_long_gun  \\\n",
       "0                 3.0                       0.0                        0.0   \n",
       "\n",
       "   return_to_seller_other  totals  \n",
       "0                     3.0   32019  \n",
       "\n",
       "[1 rows x 27 columns]"
      ]
     },
     "execution_count": 3,
     "metadata": {},
     "output_type": "execute_result"
    }
   ],
   "source": [
    "# Analyze columns and sample of gun dataset\n",
    "print(gun.shape)\n",
    "gun.head(1)"
   ]
  },
  {
   "cell_type": "code",
   "execution_count": 4,
   "metadata": {},
   "outputs": [
    {
     "name": "stdout",
     "output_type": "stream",
     "text": [
      "(85, 52)\n"
     ]
    },
    {
     "data": {
      "text/html": [
       "<div>\n",
       "<style scoped>\n",
       "    .dataframe tbody tr th:only-of-type {\n",
       "        vertical-align: middle;\n",
       "    }\n",
       "\n",
       "    .dataframe tbody tr th {\n",
       "        vertical-align: top;\n",
       "    }\n",
       "\n",
       "    .dataframe thead th {\n",
       "        text-align: right;\n",
       "    }\n",
       "</style>\n",
       "<table border=\"1\" class=\"dataframe\">\n",
       "  <thead>\n",
       "    <tr style=\"text-align: right;\">\n",
       "      <th></th>\n",
       "      <th>Fact</th>\n",
       "      <th>Fact Note</th>\n",
       "      <th>Alabama</th>\n",
       "      <th>Alaska</th>\n",
       "      <th>Arizona</th>\n",
       "      <th>Arkansas</th>\n",
       "      <th>California</th>\n",
       "      <th>Colorado</th>\n",
       "      <th>Connecticut</th>\n",
       "      <th>Delaware</th>\n",
       "      <th>...</th>\n",
       "      <th>South Dakota</th>\n",
       "      <th>Tennessee</th>\n",
       "      <th>Texas</th>\n",
       "      <th>Utah</th>\n",
       "      <th>Vermont</th>\n",
       "      <th>Virginia</th>\n",
       "      <th>Washington</th>\n",
       "      <th>West Virginia</th>\n",
       "      <th>Wisconsin</th>\n",
       "      <th>Wyoming</th>\n",
       "    </tr>\n",
       "  </thead>\n",
       "  <tbody>\n",
       "    <tr>\n",
       "      <th>0</th>\n",
       "      <td>Population estimates, July 1, 2016,  (V2016)</td>\n",
       "      <td>NaN</td>\n",
       "      <td>4,863,300</td>\n",
       "      <td>741,894</td>\n",
       "      <td>6,931,071</td>\n",
       "      <td>2,988,248</td>\n",
       "      <td>39,250,017</td>\n",
       "      <td>5,540,545</td>\n",
       "      <td>3,576,452</td>\n",
       "      <td>952,065</td>\n",
       "      <td>...</td>\n",
       "      <td>865454</td>\n",
       "      <td>6651194</td>\n",
       "      <td>27,862,596</td>\n",
       "      <td>3,051,217</td>\n",
       "      <td>624,594</td>\n",
       "      <td>8,411,808</td>\n",
       "      <td>7,288,000</td>\n",
       "      <td>1,831,102</td>\n",
       "      <td>5,778,708</td>\n",
       "      <td>585,501</td>\n",
       "    </tr>\n",
       "  </tbody>\n",
       "</table>\n",
       "<p>1 rows × 52 columns</p>\n",
       "</div>"
      ],
      "text/plain": [
       "                                           Fact Fact Note    Alabama   Alaska  \\\n",
       "0  Population estimates, July 1, 2016,  (V2016)       NaN  4,863,300  741,894   \n",
       "\n",
       "     Arizona   Arkansas  California   Colorado Connecticut Delaware  ...  \\\n",
       "0  6,931,071  2,988,248  39,250,017  5,540,545   3,576,452  952,065  ...   \n",
       "\n",
       "  South Dakota Tennessee       Texas       Utah  Vermont   Virginia  \\\n",
       "0       865454   6651194  27,862,596  3,051,217  624,594  8,411,808   \n",
       "\n",
       "  Washington West Virginia  Wisconsin  Wyoming  \n",
       "0  7,288,000     1,831,102  5,778,708  585,501  \n",
       "\n",
       "[1 rows x 52 columns]"
      ]
     },
     "execution_count": 4,
     "metadata": {},
     "output_type": "execute_result"
    }
   ],
   "source": [
    "# Analyze columns and sample of census dataset\n",
    "print(census.shape)\n",
    "census.head(1)"
   ]
  },
  {
   "cell_type": "markdown",
   "metadata": {},
   "source": [
    "#### NOTE\n",
    "There are several issues with both datasets. There are null values, datatype discrepancies (e.g. dates, integers and characters in the same cell etc.), and a lot of extraneous information.\n",
    "\n",
    "In addition, an important detail to note is the axis issue with the census data. In order to make the analysis easier, we will need to flip the rows and columns to improve legibility and sorting for the purposes of our exploration."
   ]
  },
  {
   "cell_type": "markdown",
   "metadata": {},
   "source": [
    "### Continue data wrangling to understand what will need to be cleaned\n",
    "This will include checking for missing values, finding duplicates, and understanding datatypes in both gun and census datasets"
   ]
  },
  {
   "cell_type": "code",
   "execution_count": 5,
   "metadata": {},
   "outputs": [
    {
     "data": {
      "text/plain": [
       "month                            0\n",
       "state                            0\n",
       "permit                          24\n",
       "permit_recheck               11385\n",
       "handgun                         20\n",
       "long_gun                        19\n",
       "other                         6985\n",
       "multiple                         0\n",
       "admin                           23\n",
       "prepawn_handgun               1943\n",
       "prepawn_long_gun              1945\n",
       "prepawn_other                 7370\n",
       "redemption_handgun            1940\n",
       "redemption_long_gun           1941\n",
       "redemption_other              7370\n",
       "returned_handgun             10285\n",
       "returned_long_gun            10340\n",
       "returned_other               10670\n",
       "rentals_handgun              11495\n",
       "rentals_long_gun             11660\n",
       "private_sale_handgun          9735\n",
       "private_sale_long_gun         9735\n",
       "private_sale_other            9735\n",
       "return_to_seller_handgun     10010\n",
       "return_to_seller_long_gun     9735\n",
       "return_to_seller_other       10230\n",
       "totals                           0\n",
       "dtype: int64"
      ]
     },
     "execution_count": 5,
     "metadata": {},
     "output_type": "execute_result"
    }
   ],
   "source": [
    "# Check if there are missing values\n",
    "gun.isnull().sum()"
   ]
  },
  {
   "cell_type": "code",
   "execution_count": 6,
   "metadata": {},
   "outputs": [
    {
     "data": {
      "text/plain": [
       "Fact               5\n",
       "Fact Note         57\n",
       "Alabama           20\n",
       "Alaska            20\n",
       "Arizona           20\n",
       "Arkansas          20\n",
       "California        20\n",
       "Colorado          20\n",
       "Connecticut       20\n",
       "Delaware          20\n",
       "Florida           20\n",
       "Georgia           20\n",
       "Hawaii            20\n",
       "Idaho             20\n",
       "Illinois          20\n",
       "Indiana           20\n",
       "Iowa              20\n",
       "Kansas            20\n",
       "Kentucky          20\n",
       "Louisiana         20\n",
       "Maine             20\n",
       "Maryland          20\n",
       "Massachusetts     20\n",
       "Michigan          20\n",
       "Minnesota         20\n",
       "Mississippi       20\n",
       "Missouri          20\n",
       "Montana           20\n",
       "Nebraska          20\n",
       "Nevada            20\n",
       "New Hampshire     20\n",
       "New Jersey        20\n",
       "New Mexico        20\n",
       "New York          20\n",
       "North Carolina    20\n",
       "North Dakota      20\n",
       "Ohio              20\n",
       "Oklahoma          20\n",
       "Oregon            20\n",
       "Pennsylvania      20\n",
       "Rhode Island      20\n",
       "South Carolina    20\n",
       "South Dakota      20\n",
       "Tennessee         20\n",
       "Texas             20\n",
       "Utah              20\n",
       "Vermont           20\n",
       "Virginia          20\n",
       "Washington        20\n",
       "West Virginia     20\n",
       "Wisconsin         20\n",
       "Wyoming           20\n",
       "dtype: int64"
      ]
     },
     "execution_count": 6,
     "metadata": {},
     "output_type": "execute_result"
    }
   ],
   "source": [
    "# Check if there are missing values\n",
    "census.isnull().sum()"
   ]
  },
  {
   "cell_type": "code",
   "execution_count": 7,
   "metadata": {},
   "outputs": [
    {
     "data": {
      "text/plain": [
       "0"
      ]
     },
     "execution_count": 7,
     "metadata": {},
     "output_type": "execute_result"
    }
   ],
   "source": [
    "# Find duplicate rows, if any\n",
    "gun.duplicated().sum()"
   ]
  },
  {
   "cell_type": "code",
   "execution_count": 8,
   "metadata": {},
   "outputs": [
    {
     "data": {
      "text/plain": [
       "3"
      ]
     },
     "execution_count": 8,
     "metadata": {},
     "output_type": "execute_result"
    }
   ],
   "source": [
    "# Find duplicate rows, if any\n",
    "census.duplicated().sum()"
   ]
  },
  {
   "cell_type": "code",
   "execution_count": 9,
   "metadata": {},
   "outputs": [
    {
     "name": "stdout",
     "output_type": "stream",
     "text": [
      "<class 'pandas.core.frame.DataFrame'>\n",
      "RangeIndex: 12485 entries, 0 to 12484\n",
      "Data columns (total 27 columns):\n",
      " #   Column                     Non-Null Count  Dtype  \n",
      "---  ------                     --------------  -----  \n",
      " 0   month                      12485 non-null  object \n",
      " 1   state                      12485 non-null  object \n",
      " 2   permit                     12461 non-null  float64\n",
      " 3   permit_recheck             1100 non-null   float64\n",
      " 4   handgun                    12465 non-null  float64\n",
      " 5   long_gun                   12466 non-null  float64\n",
      " 6   other                      5500 non-null   float64\n",
      " 7   multiple                   12485 non-null  int64  \n",
      " 8   admin                      12462 non-null  float64\n",
      " 9   prepawn_handgun            10542 non-null  float64\n",
      " 10  prepawn_long_gun           10540 non-null  float64\n",
      " 11  prepawn_other              5115 non-null   float64\n",
      " 12  redemption_handgun         10545 non-null  float64\n",
      " 13  redemption_long_gun        10544 non-null  float64\n",
      " 14  redemption_other           5115 non-null   float64\n",
      " 15  returned_handgun           2200 non-null   float64\n",
      " 16  returned_long_gun          2145 non-null   float64\n",
      " 17  returned_other             1815 non-null   float64\n",
      " 18  rentals_handgun            990 non-null    float64\n",
      " 19  rentals_long_gun           825 non-null    float64\n",
      " 20  private_sale_handgun       2750 non-null   float64\n",
      " 21  private_sale_long_gun      2750 non-null   float64\n",
      " 22  private_sale_other         2750 non-null   float64\n",
      " 23  return_to_seller_handgun   2475 non-null   float64\n",
      " 24  return_to_seller_long_gun  2750 non-null   float64\n",
      " 25  return_to_seller_other     2255 non-null   float64\n",
      " 26  totals                     12485 non-null  int64  \n",
      "dtypes: float64(23), int64(2), object(2)\n",
      "memory usage: 2.6+ MB\n"
     ]
    }
   ],
   "source": [
    "# Holistic view of which columns have missing values and what datatype they are\n",
    "gun.info()"
   ]
  },
  {
   "cell_type": "code",
   "execution_count": 10,
   "metadata": {},
   "outputs": [
    {
     "name": "stdout",
     "output_type": "stream",
     "text": [
      "<class 'pandas.core.frame.DataFrame'>\n",
      "RangeIndex: 85 entries, 0 to 84\n",
      "Data columns (total 52 columns):\n",
      " #   Column          Non-Null Count  Dtype \n",
      "---  ------          --------------  ----- \n",
      " 0   Fact            80 non-null     object\n",
      " 1   Fact Note       28 non-null     object\n",
      " 2   Alabama         65 non-null     object\n",
      " 3   Alaska          65 non-null     object\n",
      " 4   Arizona         65 non-null     object\n",
      " 5   Arkansas        65 non-null     object\n",
      " 6   California      65 non-null     object\n",
      " 7   Colorado        65 non-null     object\n",
      " 8   Connecticut     65 non-null     object\n",
      " 9   Delaware        65 non-null     object\n",
      " 10  Florida         65 non-null     object\n",
      " 11  Georgia         65 non-null     object\n",
      " 12  Hawaii          65 non-null     object\n",
      " 13  Idaho           65 non-null     object\n",
      " 14  Illinois        65 non-null     object\n",
      " 15  Indiana         65 non-null     object\n",
      " 16  Iowa            65 non-null     object\n",
      " 17  Kansas          65 non-null     object\n",
      " 18  Kentucky        65 non-null     object\n",
      " 19  Louisiana       65 non-null     object\n",
      " 20  Maine           65 non-null     object\n",
      " 21  Maryland        65 non-null     object\n",
      " 22  Massachusetts   65 non-null     object\n",
      " 23  Michigan        65 non-null     object\n",
      " 24  Minnesota       65 non-null     object\n",
      " 25  Mississippi     65 non-null     object\n",
      " 26  Missouri        65 non-null     object\n",
      " 27  Montana         65 non-null     object\n",
      " 28  Nebraska        65 non-null     object\n",
      " 29  Nevada          65 non-null     object\n",
      " 30  New Hampshire   65 non-null     object\n",
      " 31  New Jersey      65 non-null     object\n",
      " 32  New Mexico      65 non-null     object\n",
      " 33  New York        65 non-null     object\n",
      " 34  North Carolina  65 non-null     object\n",
      " 35  North Dakota    65 non-null     object\n",
      " 36  Ohio            65 non-null     object\n",
      " 37  Oklahoma        65 non-null     object\n",
      " 38  Oregon          65 non-null     object\n",
      " 39  Pennsylvania    65 non-null     object\n",
      " 40  Rhode Island    65 non-null     object\n",
      " 41  South Carolina  65 non-null     object\n",
      " 42  South Dakota    65 non-null     object\n",
      " 43  Tennessee       65 non-null     object\n",
      " 44  Texas           65 non-null     object\n",
      " 45  Utah            65 non-null     object\n",
      " 46  Vermont         65 non-null     object\n",
      " 47  Virginia        65 non-null     object\n",
      " 48  Washington      65 non-null     object\n",
      " 49  West Virginia   65 non-null     object\n",
      " 50  Wisconsin       65 non-null     object\n",
      " 51  Wyoming         65 non-null     object\n",
      "dtypes: object(52)\n",
      "memory usage: 34.7+ KB\n"
     ]
    }
   ],
   "source": [
    "# Holistic view of which columns have missing values and what datatype they are\n",
    "census.info()"
   ]
  },
  {
   "cell_type": "markdown",
   "metadata": {},
   "source": [
    "#### NOTE\n",
    "The exploratory phase has been very useful. There appears to be a lot of missing values in both datasets and only three (3) duplicates in the census data which will need to be addressed in the cleaning. In the gun dataset, I also anticipate work to be done on the `month` column because it is currently showing a datatype of string. We can also do quite a bit of filtering on both datasets in order to focus our analysis on Maryland."
   ]
  },
  {
   "cell_type": "markdown",
   "metadata": {},
   "source": [
    "### Data Cleaning\n",
    "I start by cleaning the columns in order to drop extraneous ones from both gun and census datasets. Due to the amount of columns I wanted to remove in comparison to what I wanted to keep, I chose to list the ones that needed to be retained instead of dropping the ones that were not needed."
   ]
  },
  {
   "cell_type": "markdown",
   "metadata": {},
   "source": [
    "#### Filter"
   ]
  },
  {
   "cell_type": "code",
   "execution_count": 11,
   "metadata": {},
   "outputs": [
    {
     "name": "stdout",
     "output_type": "stream",
     "text": [
      "(12485, 8)\n"
     ]
    },
    {
     "data": {
      "text/html": [
       "<div>\n",
       "<style scoped>\n",
       "    .dataframe tbody tr th:only-of-type {\n",
       "        vertical-align: middle;\n",
       "    }\n",
       "\n",
       "    .dataframe tbody tr th {\n",
       "        vertical-align: top;\n",
       "    }\n",
       "\n",
       "    .dataframe thead th {\n",
       "        text-align: right;\n",
       "    }\n",
       "</style>\n",
       "<table border=\"1\" class=\"dataframe\">\n",
       "  <thead>\n",
       "    <tr style=\"text-align: right;\">\n",
       "      <th></th>\n",
       "      <th>month</th>\n",
       "      <th>state</th>\n",
       "      <th>permit</th>\n",
       "      <th>handgun</th>\n",
       "      <th>long_gun</th>\n",
       "      <th>other</th>\n",
       "      <th>multiple</th>\n",
       "      <th>totals</th>\n",
       "    </tr>\n",
       "  </thead>\n",
       "  <tbody>\n",
       "    <tr>\n",
       "      <th>0</th>\n",
       "      <td>2017-09</td>\n",
       "      <td>Alabama</td>\n",
       "      <td>16717.0</td>\n",
       "      <td>5734.0</td>\n",
       "      <td>6320.0</td>\n",
       "      <td>221.0</td>\n",
       "      <td>317</td>\n",
       "      <td>32019</td>\n",
       "    </tr>\n",
       "  </tbody>\n",
       "</table>\n",
       "</div>"
      ],
      "text/plain": [
       "     month    state   permit  handgun  long_gun  other  multiple  totals\n",
       "0  2017-09  Alabama  16717.0   5734.0    6320.0  221.0       317   32019"
      ]
     },
     "execution_count": 11,
     "metadata": {},
     "output_type": "execute_result"
    }
   ],
   "source": [
    "# Clean columns and drop extraneous columns from gun dataset\n",
    "gun = gun[['month', 'state', 'permit', 'handgun', 'long_gun', 'other', 'multiple', 'totals']]\n",
    "print(gun.shape)\n",
    "gun.head(1)"
   ]
  },
  {
   "cell_type": "code",
   "execution_count": 12,
   "metadata": {},
   "outputs": [
    {
     "name": "stdout",
     "output_type": "stream",
     "text": [
      "(85, 2)\n"
     ]
    },
    {
     "data": {
      "text/html": [
       "<div>\n",
       "<style scoped>\n",
       "    .dataframe tbody tr th:only-of-type {\n",
       "        vertical-align: middle;\n",
       "    }\n",
       "\n",
       "    .dataframe tbody tr th {\n",
       "        vertical-align: top;\n",
       "    }\n",
       "\n",
       "    .dataframe thead th {\n",
       "        text-align: right;\n",
       "    }\n",
       "</style>\n",
       "<table border=\"1\" class=\"dataframe\">\n",
       "  <thead>\n",
       "    <tr style=\"text-align: right;\">\n",
       "      <th></th>\n",
       "      <th>Fact</th>\n",
       "      <th>Maryland</th>\n",
       "    </tr>\n",
       "  </thead>\n",
       "  <tbody>\n",
       "    <tr>\n",
       "      <th>0</th>\n",
       "      <td>Population estimates, July 1, 2016,  (V2016)</td>\n",
       "      <td>6,016,447</td>\n",
       "    </tr>\n",
       "    <tr>\n",
       "      <th>1</th>\n",
       "      <td>Population estimates base, April 1, 2010,  (V2...</td>\n",
       "      <td>5,773,786</td>\n",
       "    </tr>\n",
       "    <tr>\n",
       "      <th>2</th>\n",
       "      <td>Population, percent change - April 1, 2010 (es...</td>\n",
       "      <td>4.20%</td>\n",
       "    </tr>\n",
       "    <tr>\n",
       "      <th>3</th>\n",
       "      <td>Population, Census, April 1, 2010</td>\n",
       "      <td>5,773,552</td>\n",
       "    </tr>\n",
       "    <tr>\n",
       "      <th>4</th>\n",
       "      <td>Persons under 5 years, percent, July 1, 2016, ...</td>\n",
       "      <td>6.10%</td>\n",
       "    </tr>\n",
       "  </tbody>\n",
       "</table>\n",
       "</div>"
      ],
      "text/plain": [
       "                                                Fact   Maryland\n",
       "0       Population estimates, July 1, 2016,  (V2016)  6,016,447\n",
       "1  Population estimates base, April 1, 2010,  (V2...  5,773,786\n",
       "2  Population, percent change - April 1, 2010 (es...      4.20%\n",
       "3                  Population, Census, April 1, 2010  5,773,552\n",
       "4  Persons under 5 years, percent, July 1, 2016, ...      6.10%"
      ]
     },
     "execution_count": 12,
     "metadata": {},
     "output_type": "execute_result"
    }
   ],
   "source": [
    "# Clean columns and drop extraneous columns from census dataset\n",
    "census = census[['Fact', 'Maryland']]\n",
    "print(census.shape)\n",
    "census.head()"
   ]
  },
  {
   "cell_type": "code",
   "execution_count": 13,
   "metadata": {},
   "outputs": [
    {
     "data": {
      "text/html": [
       "<div>\n",
       "<style scoped>\n",
       "    .dataframe tbody tr th:only-of-type {\n",
       "        vertical-align: middle;\n",
       "    }\n",
       "\n",
       "    .dataframe tbody tr th {\n",
       "        vertical-align: top;\n",
       "    }\n",
       "\n",
       "    .dataframe thead th {\n",
       "        text-align: right;\n",
       "    }\n",
       "</style>\n",
       "<table border=\"1\" class=\"dataframe\">\n",
       "  <thead>\n",
       "    <tr style=\"text-align: right;\">\n",
       "      <th></th>\n",
       "      <th>month</th>\n",
       "      <th>state</th>\n",
       "      <th>permit</th>\n",
       "      <th>handgun</th>\n",
       "      <th>long_gun</th>\n",
       "      <th>other</th>\n",
       "      <th>multiple</th>\n",
       "      <th>totals</th>\n",
       "    </tr>\n",
       "  </thead>\n",
       "  <tbody>\n",
       "    <tr>\n",
       "      <th>22</th>\n",
       "      <td>2017-09</td>\n",
       "      <td>Maryland</td>\n",
       "      <td>2424.0</td>\n",
       "      <td>3389.0</td>\n",
       "      <td>4897.0</td>\n",
       "      <td>168.0</td>\n",
       "      <td>34</td>\n",
       "      <td>11255</td>\n",
       "    </tr>\n",
       "    <tr>\n",
       "      <th>77</th>\n",
       "      <td>2017-08</td>\n",
       "      <td>Maryland</td>\n",
       "      <td>2629.0</td>\n",
       "      <td>3657.0</td>\n",
       "      <td>4807.0</td>\n",
       "      <td>153.0</td>\n",
       "      <td>27</td>\n",
       "      <td>11561</td>\n",
       "    </tr>\n",
       "    <tr>\n",
       "      <th>132</th>\n",
       "      <td>2017-07</td>\n",
       "      <td>Maryland</td>\n",
       "      <td>2025.0</td>\n",
       "      <td>3710.0</td>\n",
       "      <td>3922.0</td>\n",
       "      <td>172.0</td>\n",
       "      <td>18</td>\n",
       "      <td>10088</td>\n",
       "    </tr>\n",
       "    <tr>\n",
       "      <th>187</th>\n",
       "      <td>2017-06</td>\n",
       "      <td>Maryland</td>\n",
       "      <td>2477.0</td>\n",
       "      <td>3968.0</td>\n",
       "      <td>3963.0</td>\n",
       "      <td>250.0</td>\n",
       "      <td>19</td>\n",
       "      <td>10945</td>\n",
       "    </tr>\n",
       "    <tr>\n",
       "      <th>242</th>\n",
       "      <td>2017-05</td>\n",
       "      <td>Maryland</td>\n",
       "      <td>2378.0</td>\n",
       "      <td>4539.0</td>\n",
       "      <td>4244.0</td>\n",
       "      <td>212.0</td>\n",
       "      <td>30</td>\n",
       "      <td>11660</td>\n",
       "    </tr>\n",
       "  </tbody>\n",
       "</table>\n",
       "</div>"
      ],
      "text/plain": [
       "       month     state  permit  handgun  long_gun  other  multiple  totals\n",
       "22   2017-09  Maryland  2424.0   3389.0    4897.0  168.0        34   11255\n",
       "77   2017-08  Maryland  2629.0   3657.0    4807.0  153.0        27   11561\n",
       "132  2017-07  Maryland  2025.0   3710.0    3922.0  172.0        18   10088\n",
       "187  2017-06  Maryland  2477.0   3968.0    3963.0  250.0        19   10945\n",
       "242  2017-05  Maryland  2378.0   4539.0    4244.0  212.0        30   11660"
      ]
     },
     "execution_count": 13,
     "metadata": {},
     "output_type": "execute_result"
    }
   ],
   "source": [
    "# Filter gun data for the state of Maryland\n",
    "gun = gun.query('state == \"Maryland\"')\n",
    "\n",
    "# Confirm the filter query was successful\n",
    "gun.head()"
   ]
  },
  {
   "cell_type": "markdown",
   "metadata": {},
   "source": [
    "#### NOTE\n",
    "It is important to note at this point that as a result of the filter query above, the indexing appears to have changed. The rows are no longer in order of 0,1,2,3 as they should be. This will be something we need to address."
   ]
  },
  {
   "cell_type": "code",
   "execution_count": 14,
   "metadata": {},
   "outputs": [
    {
     "data": {
      "text/plain": [
       "array(['Maryland'], dtype=object)"
      ]
     },
     "execution_count": 14,
     "metadata": {},
     "output_type": "execute_result"
    }
   ],
   "source": [
    "# Double check the only state is now Maryland\n",
    "gun['state'].unique()"
   ]
  },
  {
   "cell_type": "markdown",
   "metadata": {},
   "source": [
    "#### NOTE\n",
    "Double checking that Maryland is the only state available in the dataset is important because we will now remove the state column since it will no longer provide any useful information."
   ]
  },
  {
   "cell_type": "code",
   "execution_count": 15,
   "metadata": {},
   "outputs": [],
   "source": [
    "# Remove state column from dataset\n",
    "gun.drop('state', axis=1, inplace=True)"
   ]
  },
  {
   "cell_type": "markdown",
   "metadata": {},
   "source": [
    "#### NOTE\n",
    "Now that we have Marylands data extracted, we will need to save this to a new variable and then address the row indexing issue mentioned above. As you can see below, the index is being reset inside the new `md_gun` variable and in order to avoid the old index being added as a column, `drop=True` is included. "
   ]
  },
  {
   "cell_type": "code",
   "execution_count": 16,
   "metadata": {},
   "outputs": [
    {
     "name": "stdout",
     "output_type": "stream",
     "text": [
      "(227, 7)\n"
     ]
    },
    {
     "data": {
      "text/html": [
       "<div>\n",
       "<style scoped>\n",
       "    .dataframe tbody tr th:only-of-type {\n",
       "        vertical-align: middle;\n",
       "    }\n",
       "\n",
       "    .dataframe tbody tr th {\n",
       "        vertical-align: top;\n",
       "    }\n",
       "\n",
       "    .dataframe thead th {\n",
       "        text-align: right;\n",
       "    }\n",
       "</style>\n",
       "<table border=\"1\" class=\"dataframe\">\n",
       "  <thead>\n",
       "    <tr style=\"text-align: right;\">\n",
       "      <th></th>\n",
       "      <th>month</th>\n",
       "      <th>permit</th>\n",
       "      <th>handgun</th>\n",
       "      <th>long_gun</th>\n",
       "      <th>other</th>\n",
       "      <th>multiple</th>\n",
       "      <th>totals</th>\n",
       "    </tr>\n",
       "  </thead>\n",
       "  <tbody>\n",
       "    <tr>\n",
       "      <th>0</th>\n",
       "      <td>2017-09</td>\n",
       "      <td>2424.0</td>\n",
       "      <td>3389.0</td>\n",
       "      <td>4897.0</td>\n",
       "      <td>168.0</td>\n",
       "      <td>34</td>\n",
       "      <td>11255</td>\n",
       "    </tr>\n",
       "    <tr>\n",
       "      <th>1</th>\n",
       "      <td>2017-08</td>\n",
       "      <td>2629.0</td>\n",
       "      <td>3657.0</td>\n",
       "      <td>4807.0</td>\n",
       "      <td>153.0</td>\n",
       "      <td>27</td>\n",
       "      <td>11561</td>\n",
       "    </tr>\n",
       "    <tr>\n",
       "      <th>2</th>\n",
       "      <td>2017-07</td>\n",
       "      <td>2025.0</td>\n",
       "      <td>3710.0</td>\n",
       "      <td>3922.0</td>\n",
       "      <td>172.0</td>\n",
       "      <td>18</td>\n",
       "      <td>10088</td>\n",
       "    </tr>\n",
       "    <tr>\n",
       "      <th>3</th>\n",
       "      <td>2017-06</td>\n",
       "      <td>2477.0</td>\n",
       "      <td>3968.0</td>\n",
       "      <td>3963.0</td>\n",
       "      <td>250.0</td>\n",
       "      <td>19</td>\n",
       "      <td>10945</td>\n",
       "    </tr>\n",
       "    <tr>\n",
       "      <th>4</th>\n",
       "      <td>2017-05</td>\n",
       "      <td>2378.0</td>\n",
       "      <td>4539.0</td>\n",
       "      <td>4244.0</td>\n",
       "      <td>212.0</td>\n",
       "      <td>30</td>\n",
       "      <td>11660</td>\n",
       "    </tr>\n",
       "  </tbody>\n",
       "</table>\n",
       "</div>"
      ],
      "text/plain": [
       "     month  permit  handgun  long_gun  other  multiple  totals\n",
       "0  2017-09  2424.0   3389.0    4897.0  168.0        34   11255\n",
       "1  2017-08  2629.0   3657.0    4807.0  153.0        27   11561\n",
       "2  2017-07  2025.0   3710.0    3922.0  172.0        18   10088\n",
       "3  2017-06  2477.0   3968.0    3963.0  250.0        19   10945\n",
       "4  2017-05  2378.0   4539.0    4244.0  212.0        30   11660"
      ]
     },
     "execution_count": 16,
     "metadata": {},
     "output_type": "execute_result"
    }
   ],
   "source": [
    "# Save Maryland data in new variable while resetting index and double check shape\n",
    "md_gun = gun.reset_index(drop=True)\n",
    "print(md_gun.shape)\n",
    "md_gun.head()"
   ]
  },
  {
   "cell_type": "markdown",
   "metadata": {},
   "source": [
    "#### Drop Missing Values"
   ]
  },
  {
   "cell_type": "code",
   "execution_count": 17,
   "metadata": {},
   "outputs": [
    {
     "data": {
      "text/plain": [
       "month         0\n",
       "permit        0\n",
       "handgun       0\n",
       "long_gun      0\n",
       "other       127\n",
       "multiple      0\n",
       "totals        0\n",
       "dtype: int64"
      ]
     },
     "execution_count": 17,
     "metadata": {},
     "output_type": "execute_result"
    }
   ],
   "source": [
    "# Confirm the missing value counts for each column\n",
    "md_gun.isnull().sum()"
   ]
  },
  {
   "cell_type": "code",
   "execution_count": 18,
   "metadata": {},
   "outputs": [
    {
     "data": {
      "text/plain": [
       "Fact         5\n",
       "Maryland    20\n",
       "dtype: int64"
      ]
     },
     "execution_count": 18,
     "metadata": {},
     "output_type": "execute_result"
    }
   ],
   "source": [
    "# Cofnirm the missing value counts for each column\n",
    "census.isnull().sum()"
   ]
  },
  {
   "cell_type": "code",
   "execution_count": 19,
   "metadata": {},
   "outputs": [],
   "source": [
    "# Drop rows with any null values for both gun and census datasets\n",
    "md_gun.dropna(inplace=True)\n",
    "census.dropna(inplace=True)"
   ]
  },
  {
   "cell_type": "code",
   "execution_count": 20,
   "metadata": {},
   "outputs": [
    {
     "data": {
      "text/plain": [
       "False"
      ]
     },
     "execution_count": 20,
     "metadata": {},
     "output_type": "execute_result"
    }
   ],
   "source": [
    "# Confirm drop was successful and no columns have null values (False)\n",
    "md_gun.isnull().sum().any()"
   ]
  },
  {
   "cell_type": "code",
   "execution_count": 21,
   "metadata": {},
   "outputs": [
    {
     "data": {
      "text/plain": [
       "False"
      ]
     },
     "execution_count": 21,
     "metadata": {},
     "output_type": "execute_result"
    }
   ],
   "source": [
    "# Confirm drop was successful and no columns have null values (False)\n",
    "census.isnull().sum().any()"
   ]
  },
  {
   "cell_type": "markdown",
   "metadata": {},
   "source": [
    "#### Dedupe Data"
   ]
  },
  {
   "cell_type": "code",
   "execution_count": 22,
   "metadata": {},
   "outputs": [
    {
     "name": "stdout",
     "output_type": "stream",
     "text": [
      "0\n"
     ]
    }
   ],
   "source": [
    "# Find number of duplicates in dataset, if none, move on\n",
    "print(gun.duplicated().sum())"
   ]
  },
  {
   "cell_type": "code",
   "execution_count": 23,
   "metadata": {},
   "outputs": [
    {
     "name": "stdout",
     "output_type": "stream",
     "text": [
      "0\n"
     ]
    }
   ],
   "source": [
    "# Find number of duplicates in dataset, if none, move on\n",
    "print(census.duplicated().sum())"
   ]
  },
  {
   "cell_type": "markdown",
   "metadata": {},
   "source": [
    "#### NOTE\n",
    "Is appears as though the filtering done previously removed the duplicates discovered during the initial data wrangling phase.\n",
    "\n",
    "Next, we will investigate the `month` datatype and convert it via `to_datetime` and extract the information we need from that column into separate ones."
   ]
  },
  {
   "cell_type": "code",
   "execution_count": 24,
   "metadata": {},
   "outputs": [
    {
     "name": "stdout",
     "output_type": "stream",
     "text": [
      "<class 'pandas.core.frame.DataFrame'>\n",
      "Int64Index: 100 entries, 0 to 99\n",
      "Data columns (total 7 columns):\n",
      " #   Column    Non-Null Count  Dtype  \n",
      "---  ------    --------------  -----  \n",
      " 0   month     100 non-null    object \n",
      " 1   permit    100 non-null    float64\n",
      " 2   handgun   100 non-null    float64\n",
      " 3   long_gun  100 non-null    float64\n",
      " 4   other     100 non-null    float64\n",
      " 5   multiple  100 non-null    int64  \n",
      " 6   totals    100 non-null    int64  \n",
      "dtypes: float64(4), int64(2), object(1)\n",
      "memory usage: 6.2+ KB\n"
     ]
    }
   ],
   "source": [
    "# Reinspect gun column datatypes\n",
    "md_gun.info()"
   ]
  },
  {
   "cell_type": "markdown",
   "metadata": {},
   "source": [
    "#### NOTE\n",
    "We can see that `month` is currently set to a string object. We need to convert that to a datetime variable. Then, we will extract the `year` and `month` into their own columns in order to analyze the data by each independently, if needed."
   ]
  },
  {
   "cell_type": "code",
   "execution_count": 25,
   "metadata": {},
   "outputs": [],
   "source": [
    "# Convert month column to datetime by creating a `date` column\n",
    "md_gun['date'] = pd.to_datetime(md_gun.month, format= \"%Y-%m\")"
   ]
  },
  {
   "cell_type": "code",
   "execution_count": 26,
   "metadata": {},
   "outputs": [],
   "source": [
    "# Extract the `year` from `date`\n",
    "md_gun['year'] = md_gun['date'].dt.year"
   ]
  },
  {
   "cell_type": "code",
   "execution_count": 27,
   "metadata": {},
   "outputs": [],
   "source": [
    "# Extract `month` from `date`\n",
    "md_gun['month'] = md_gun['date'].dt.month"
   ]
  },
  {
   "cell_type": "code",
   "execution_count": 28,
   "metadata": {},
   "outputs": [
    {
     "data": {
      "text/html": [
       "<div>\n",
       "<style scoped>\n",
       "    .dataframe tbody tr th:only-of-type {\n",
       "        vertical-align: middle;\n",
       "    }\n",
       "\n",
       "    .dataframe tbody tr th {\n",
       "        vertical-align: top;\n",
       "    }\n",
       "\n",
       "    .dataframe thead th {\n",
       "        text-align: right;\n",
       "    }\n",
       "</style>\n",
       "<table border=\"1\" class=\"dataframe\">\n",
       "  <thead>\n",
       "    <tr style=\"text-align: right;\">\n",
       "      <th></th>\n",
       "      <th>date</th>\n",
       "      <th>month</th>\n",
       "      <th>year</th>\n",
       "    </tr>\n",
       "  </thead>\n",
       "  <tbody>\n",
       "    <tr>\n",
       "      <th>95</th>\n",
       "      <td>2009-10-01</td>\n",
       "      <td>10</td>\n",
       "      <td>2009</td>\n",
       "    </tr>\n",
       "    <tr>\n",
       "      <th>96</th>\n",
       "      <td>2009-09-01</td>\n",
       "      <td>9</td>\n",
       "      <td>2009</td>\n",
       "    </tr>\n",
       "    <tr>\n",
       "      <th>97</th>\n",
       "      <td>2009-08-01</td>\n",
       "      <td>8</td>\n",
       "      <td>2009</td>\n",
       "    </tr>\n",
       "    <tr>\n",
       "      <th>98</th>\n",
       "      <td>2009-07-01</td>\n",
       "      <td>7</td>\n",
       "      <td>2009</td>\n",
       "    </tr>\n",
       "    <tr>\n",
       "      <th>99</th>\n",
       "      <td>2009-06-01</td>\n",
       "      <td>6</td>\n",
       "      <td>2009</td>\n",
       "    </tr>\n",
       "  </tbody>\n",
       "</table>\n",
       "</div>"
      ],
      "text/plain": [
       "         date  month  year\n",
       "95 2009-10-01     10  2009\n",
       "96 2009-09-01      9  2009\n",
       "97 2009-08-01      8  2009\n",
       "98 2009-07-01      7  2009\n",
       "99 2009-06-01      6  2009"
      ]
     },
     "execution_count": 28,
     "metadata": {},
     "output_type": "execute_result"
    }
   ],
   "source": [
    "# View all together\n",
    "md_gun[['date', 'month', 'year']].tail()"
   ]
  },
  {
   "cell_type": "code",
   "execution_count": 29,
   "metadata": {},
   "outputs": [
    {
     "data": {
      "text/plain": [
       "month                int64\n",
       "permit             float64\n",
       "handgun            float64\n",
       "long_gun           float64\n",
       "other              float64\n",
       "multiple             int64\n",
       "totals               int64\n",
       "date        datetime64[ns]\n",
       "year                 int64\n",
       "dtype: object"
      ]
     },
     "execution_count": 29,
     "metadata": {},
     "output_type": "execute_result"
    }
   ],
   "source": [
    "# Check datatypes and see they are listed as integers and `date` as datetime\n",
    "md_gun.dtypes"
   ]
  },
  {
   "cell_type": "markdown",
   "metadata": {},
   "source": [
    "#### NOTE\n",
    "Now that we have addressed the gun datetime issues, we can move on to additional census data cleaning. As mentioned previously, we will need to flip the rows and columns to improve legibility, sorting, index and naming. The work outlined below accomplishes this."
   ]
  },
  {
   "cell_type": "code",
   "execution_count": 30,
   "metadata": {},
   "outputs": [
    {
     "data": {
      "text/html": [
       "<div>\n",
       "<style scoped>\n",
       "    .dataframe tbody tr th:only-of-type {\n",
       "        vertical-align: middle;\n",
       "    }\n",
       "\n",
       "    .dataframe tbody tr th {\n",
       "        vertical-align: top;\n",
       "    }\n",
       "\n",
       "    .dataframe thead th {\n",
       "        text-align: right;\n",
       "    }\n",
       "</style>\n",
       "<table border=\"1\" class=\"dataframe\">\n",
       "  <thead>\n",
       "    <tr style=\"text-align: right;\">\n",
       "      <th>Fact</th>\n",
       "      <th>Population estimates, July 1, 2016,  (V2016)</th>\n",
       "      <th>Population estimates base, April 1, 2010,  (V2016)</th>\n",
       "      <th>Population, percent change - April 1, 2010 (estimates base) to July 1, 2016,  (V2016)</th>\n",
       "      <th>Population, Census, April 1, 2010</th>\n",
       "      <th>Persons under 5 years, percent, July 1, 2016,  (V2016)</th>\n",
       "      <th>Persons under 5 years, percent, April 1, 2010</th>\n",
       "      <th>Persons under 18 years, percent, July 1, 2016,  (V2016)</th>\n",
       "      <th>Persons under 18 years, percent, April 1, 2010</th>\n",
       "      <th>Persons 65 years and over, percent,  July 1, 2016,  (V2016)</th>\n",
       "      <th>Persons 65 years and over, percent, April 1, 2010</th>\n",
       "      <th>...</th>\n",
       "      <th>All firms, 2012</th>\n",
       "      <th>Men-owned firms, 2012</th>\n",
       "      <th>Women-owned firms, 2012</th>\n",
       "      <th>Minority-owned firms, 2012</th>\n",
       "      <th>Nonminority-owned firms, 2012</th>\n",
       "      <th>Veteran-owned firms, 2012</th>\n",
       "      <th>Nonveteran-owned firms, 2012</th>\n",
       "      <th>Population per square mile, 2010</th>\n",
       "      <th>Land area in square miles, 2010</th>\n",
       "      <th>FIPS Code</th>\n",
       "    </tr>\n",
       "  </thead>\n",
       "  <tbody>\n",
       "    <tr>\n",
       "      <th>Maryland</th>\n",
       "      <td>6,016,447</td>\n",
       "      <td>5,773,786</td>\n",
       "      <td>4.20%</td>\n",
       "      <td>5,773,552</td>\n",
       "      <td>6.10%</td>\n",
       "      <td>6.30%</td>\n",
       "      <td>22.40%</td>\n",
       "      <td>23.40%</td>\n",
       "      <td>14.60%</td>\n",
       "      <td>12.30%</td>\n",
       "      <td>...</td>\n",
       "      <td>531,953</td>\n",
       "      <td>276,630</td>\n",
       "      <td>209,119</td>\n",
       "      <td>203,394</td>\n",
       "      <td>314,902</td>\n",
       "      <td>50,976</td>\n",
       "      <td>462,232</td>\n",
       "      <td>594.8</td>\n",
       "      <td>9,707.24</td>\n",
       "      <td>\"24\"</td>\n",
       "    </tr>\n",
       "  </tbody>\n",
       "</table>\n",
       "<p>1 rows × 65 columns</p>\n",
       "</div>"
      ],
      "text/plain": [
       "Fact     Population estimates, July 1, 2016,  (V2016)  \\\n",
       "Maryland                                    6,016,447   \n",
       "\n",
       "Fact     Population estimates base, April 1, 2010,  (V2016)  \\\n",
       "Maryland                                          5,773,786   \n",
       "\n",
       "Fact     Population, percent change - April 1, 2010 (estimates base) to July 1, 2016,  (V2016)  \\\n",
       "Maryland                                              4.20%                                      \n",
       "\n",
       "Fact     Population, Census, April 1, 2010  \\\n",
       "Maryland                         5,773,552   \n",
       "\n",
       "Fact     Persons under 5 years, percent, July 1, 2016,  (V2016)  \\\n",
       "Maryland                                              6.10%       \n",
       "\n",
       "Fact     Persons under 5 years, percent, April 1, 2010  \\\n",
       "Maryland                                         6.30%   \n",
       "\n",
       "Fact     Persons under 18 years, percent, July 1, 2016,  (V2016)  \\\n",
       "Maryland                                             22.40%        \n",
       "\n",
       "Fact     Persons under 18 years, percent, April 1, 2010  \\\n",
       "Maryland                                         23.40%   \n",
       "\n",
       "Fact     Persons 65 years and over, percent,  July 1, 2016,  (V2016)  \\\n",
       "Maryland                                             14.60%            \n",
       "\n",
       "Fact     Persons 65 years and over, percent, April 1, 2010  ...  \\\n",
       "Maryland                                            12.30%  ...   \n",
       "\n",
       "Fact     All firms, 2012 Men-owned firms, 2012 Women-owned firms, 2012  \\\n",
       "Maryland         531,953               276,630                 209,119   \n",
       "\n",
       "Fact     Minority-owned firms, 2012 Nonminority-owned firms, 2012  \\\n",
       "Maryland                    203,394                       314,902   \n",
       "\n",
       "Fact     Veteran-owned firms, 2012 Nonveteran-owned firms, 2012  \\\n",
       "Maryland                    50,976                      462,232   \n",
       "\n",
       "Fact     Population per square mile, 2010 Land area in square miles, 2010  \\\n",
       "Maryland                            594.8                        9,707.24   \n",
       "\n",
       "Fact     FIPS Code  \n",
       "Maryland      \"24\"  \n",
       "\n",
       "[1 rows x 65 columns]"
      ]
     },
     "execution_count": 30,
     "metadata": {},
     "output_type": "execute_result"
    }
   ],
   "source": [
    "# Transpose index and columns\n",
    "census = census.transpose()\n",
    "census, census.columns = census[1:], census.iloc[0]\n",
    "census.head()"
   ]
  },
  {
   "cell_type": "code",
   "execution_count": 31,
   "metadata": {},
   "outputs": [],
   "source": [
    "# Reformat all census column data names to lowercase and replace spaces with underscores\n",
    "census.rename(columns = lambda x: x.lower().replace(' ','_'), inplace=True)"
   ]
  },
  {
   "cell_type": "code",
   "execution_count": 32,
   "metadata": {},
   "outputs": [],
   "source": [
    "# Reformat the column names\n",
    "census.rename(columns = lambda x: x.replace(',', '_'), inplace=True)"
   ]
  },
  {
   "cell_type": "code",
   "execution_count": 33,
   "metadata": {},
   "outputs": [
    {
     "data": {
      "text/html": [
       "<div>\n",
       "<style scoped>\n",
       "    .dataframe tbody tr th:only-of-type {\n",
       "        vertical-align: middle;\n",
       "    }\n",
       "\n",
       "    .dataframe tbody tr th {\n",
       "        vertical-align: top;\n",
       "    }\n",
       "\n",
       "    .dataframe thead th {\n",
       "        text-align: right;\n",
       "    }\n",
       "</style>\n",
       "<table border=\"1\" class=\"dataframe\">\n",
       "  <thead>\n",
       "    <tr style=\"text-align: right;\">\n",
       "      <th>Fact</th>\n",
       "      <th>index</th>\n",
       "      <th>population_estimates__july_1__2016___(v2016)</th>\n",
       "      <th>population_estimates_base__april_1__2010___(v2016)</th>\n",
       "      <th>population__percent_change_-_april_1__2010_(estimates_base)_to_july_1__2016___(v2016)</th>\n",
       "      <th>population__census__april_1__2010</th>\n",
       "      <th>persons_under_5_years__percent__july_1__2016___(v2016)</th>\n",
       "      <th>persons_under_5_years__percent__april_1__2010</th>\n",
       "      <th>persons_under_18_years__percent__july_1__2016___(v2016)</th>\n",
       "      <th>persons_under_18_years__percent__april_1__2010</th>\n",
       "      <th>persons_65_years_and_over__percent___july_1__2016___(v2016)</th>\n",
       "      <th>...</th>\n",
       "      <th>all_firms__2012</th>\n",
       "      <th>men-owned_firms__2012</th>\n",
       "      <th>women-owned_firms__2012</th>\n",
       "      <th>minority-owned_firms__2012</th>\n",
       "      <th>nonminority-owned_firms__2012</th>\n",
       "      <th>veteran-owned_firms__2012</th>\n",
       "      <th>nonveteran-owned_firms__2012</th>\n",
       "      <th>population_per_square_mile__2010</th>\n",
       "      <th>land_area_in_square_miles__2010</th>\n",
       "      <th>fips_code</th>\n",
       "    </tr>\n",
       "  </thead>\n",
       "  <tbody>\n",
       "    <tr>\n",
       "      <th>0</th>\n",
       "      <td>Maryland</td>\n",
       "      <td>6,016,447</td>\n",
       "      <td>5,773,786</td>\n",
       "      <td>4.20%</td>\n",
       "      <td>5,773,552</td>\n",
       "      <td>6.10%</td>\n",
       "      <td>6.30%</td>\n",
       "      <td>22.40%</td>\n",
       "      <td>23.40%</td>\n",
       "      <td>14.60%</td>\n",
       "      <td>...</td>\n",
       "      <td>531,953</td>\n",
       "      <td>276,630</td>\n",
       "      <td>209,119</td>\n",
       "      <td>203,394</td>\n",
       "      <td>314,902</td>\n",
       "      <td>50,976</td>\n",
       "      <td>462,232</td>\n",
       "      <td>594.8</td>\n",
       "      <td>9,707.24</td>\n",
       "      <td>\"24\"</td>\n",
       "    </tr>\n",
       "  </tbody>\n",
       "</table>\n",
       "<p>1 rows × 66 columns</p>\n",
       "</div>"
      ],
      "text/plain": [
       "Fact     index population_estimates__july_1__2016___(v2016)  \\\n",
       "0     Maryland                                    6,016,447   \n",
       "\n",
       "Fact population_estimates_base__april_1__2010___(v2016)  \\\n",
       "0                                             5,773,786   \n",
       "\n",
       "Fact population__percent_change_-_april_1__2010_(estimates_base)_to_july_1__2016___(v2016)  \\\n",
       "0                                                 4.20%                                      \n",
       "\n",
       "Fact population__census__april_1__2010  \\\n",
       "0                            5,773,552   \n",
       "\n",
       "Fact persons_under_5_years__percent__july_1__2016___(v2016)  \\\n",
       "0                                                 6.10%       \n",
       "\n",
       "Fact persons_under_5_years__percent__april_1__2010  \\\n",
       "0                                            6.30%   \n",
       "\n",
       "Fact persons_under_18_years__percent__july_1__2016___(v2016)  \\\n",
       "0                                                22.40%        \n",
       "\n",
       "Fact persons_under_18_years__percent__april_1__2010  \\\n",
       "0                                            23.40%   \n",
       "\n",
       "Fact persons_65_years_and_over__percent___july_1__2016___(v2016)  ...  \\\n",
       "0                                                14.60%           ...   \n",
       "\n",
       "Fact all_firms__2012 men-owned_firms__2012 women-owned_firms__2012  \\\n",
       "0            531,953               276,630                 209,119   \n",
       "\n",
       "Fact minority-owned_firms__2012 nonminority-owned_firms__2012  \\\n",
       "0                       203,394                       314,902   \n",
       "\n",
       "Fact veteran-owned_firms__2012 nonveteran-owned_firms__2012  \\\n",
       "0                       50,976                      462,232   \n",
       "\n",
       "Fact population_per_square_mile__2010 land_area_in_square_miles__2010  \\\n",
       "0                               594.8                        9,707.24   \n",
       "\n",
       "Fact fips_code  \n",
       "0         \"24\"  \n",
       "\n",
       "[1 rows x 66 columns]"
      ]
     },
     "execution_count": 33,
     "metadata": {},
     "output_type": "execute_result"
    }
   ],
   "source": [
    "# Reset census index\n",
    "census.reset_index(inplace=True)\n",
    "census.head()"
   ]
  },
  {
   "cell_type": "code",
   "execution_count": 34,
   "metadata": {},
   "outputs": [],
   "source": [
    "# Rename `index` column to `state`\n",
    "census.rename(columns={'index': 'state'}, inplace=True)"
   ]
  },
  {
   "cell_type": "code",
   "execution_count": 35,
   "metadata": {},
   "outputs": [
    {
     "data": {
      "text/html": [
       "<div>\n",
       "<style scoped>\n",
       "    .dataframe tbody tr th:only-of-type {\n",
       "        vertical-align: middle;\n",
       "    }\n",
       "\n",
       "    .dataframe tbody tr th {\n",
       "        vertical-align: top;\n",
       "    }\n",
       "\n",
       "    .dataframe thead th {\n",
       "        text-align: right;\n",
       "    }\n",
       "</style>\n",
       "<table border=\"1\" class=\"dataframe\">\n",
       "  <thead>\n",
       "    <tr style=\"text-align: right;\">\n",
       "      <th></th>\n",
       "      <th>state</th>\n",
       "      <th>population_estimates__july_1__2016___(v2016)</th>\n",
       "      <th>population_estimates_base__april_1__2010___(v2016)</th>\n",
       "      <th>population__percent_change_-_april_1__2010_(estimates_base)_to_july_1__2016___(v2016)</th>\n",
       "      <th>population__census__april_1__2010</th>\n",
       "      <th>persons_under_5_years__percent__july_1__2016___(v2016)</th>\n",
       "      <th>persons_under_5_years__percent__april_1__2010</th>\n",
       "      <th>persons_under_18_years__percent__july_1__2016___(v2016)</th>\n",
       "      <th>persons_under_18_years__percent__april_1__2010</th>\n",
       "      <th>persons_65_years_and_over__percent___july_1__2016___(v2016)</th>\n",
       "      <th>...</th>\n",
       "      <th>all_firms__2012</th>\n",
       "      <th>men-owned_firms__2012</th>\n",
       "      <th>women-owned_firms__2012</th>\n",
       "      <th>minority-owned_firms__2012</th>\n",
       "      <th>nonminority-owned_firms__2012</th>\n",
       "      <th>veteran-owned_firms__2012</th>\n",
       "      <th>nonveteran-owned_firms__2012</th>\n",
       "      <th>population_per_square_mile__2010</th>\n",
       "      <th>land_area_in_square_miles__2010</th>\n",
       "      <th>fips_code</th>\n",
       "    </tr>\n",
       "  </thead>\n",
       "  <tbody>\n",
       "    <tr>\n",
       "      <th>0</th>\n",
       "      <td>Maryland</td>\n",
       "      <td>6,016,447</td>\n",
       "      <td>5,773,786</td>\n",
       "      <td>4.20%</td>\n",
       "      <td>5,773,552</td>\n",
       "      <td>6.10%</td>\n",
       "      <td>6.30%</td>\n",
       "      <td>22.40%</td>\n",
       "      <td>23.40%</td>\n",
       "      <td>14.60%</td>\n",
       "      <td>...</td>\n",
       "      <td>531,953</td>\n",
       "      <td>276,630</td>\n",
       "      <td>209,119</td>\n",
       "      <td>203,394</td>\n",
       "      <td>314,902</td>\n",
       "      <td>50,976</td>\n",
       "      <td>462,232</td>\n",
       "      <td>594.8</td>\n",
       "      <td>9,707.24</td>\n",
       "      <td>\"24\"</td>\n",
       "    </tr>\n",
       "  </tbody>\n",
       "</table>\n",
       "<p>1 rows × 66 columns</p>\n",
       "</div>"
      ],
      "text/plain": [
       "      state population_estimates__july_1__2016___(v2016)  \\\n",
       "0  Maryland                                    6,016,447   \n",
       "\n",
       "  population_estimates_base__april_1__2010___(v2016)  \\\n",
       "0                                          5,773,786   \n",
       "\n",
       "  population__percent_change_-_april_1__2010_(estimates_base)_to_july_1__2016___(v2016)  \\\n",
       "0                                              4.20%                                      \n",
       "\n",
       "  population__census__april_1__2010  \\\n",
       "0                         5,773,552   \n",
       "\n",
       "  persons_under_5_years__percent__july_1__2016___(v2016)  \\\n",
       "0                                              6.10%       \n",
       "\n",
       "  persons_under_5_years__percent__april_1__2010  \\\n",
       "0                                         6.30%   \n",
       "\n",
       "  persons_under_18_years__percent__july_1__2016___(v2016)  \\\n",
       "0                                             22.40%        \n",
       "\n",
       "  persons_under_18_years__percent__april_1__2010  \\\n",
       "0                                         23.40%   \n",
       "\n",
       "  persons_65_years_and_over__percent___july_1__2016___(v2016)  ...  \\\n",
       "0                                             14.60%           ...   \n",
       "\n",
       "  all_firms__2012 men-owned_firms__2012 women-owned_firms__2012  \\\n",
       "0         531,953               276,630                 209,119   \n",
       "\n",
       "  minority-owned_firms__2012 nonminority-owned_firms__2012  \\\n",
       "0                    203,394                       314,902   \n",
       "\n",
       "  veteran-owned_firms__2012 nonveteran-owned_firms__2012  \\\n",
       "0                    50,976                      462,232   \n",
       "\n",
       "  population_per_square_mile__2010 land_area_in_square_miles__2010 fips_code  \n",
       "0                            594.8                        9,707.24      \"24\"  \n",
       "\n",
       "[1 rows x 66 columns]"
      ]
     },
     "execution_count": 35,
     "metadata": {},
     "output_type": "execute_result"
    }
   ],
   "source": [
    "# Remove `Fact` column name from index\n",
    "census.columns.name=''\n",
    "census.head()"
   ]
  },
  {
   "cell_type": "markdown",
   "metadata": {},
   "source": [
    "#### NOTE\n",
    "As you can see, this is getting easier to read but it is still difficult to interpret. For instance, the column names are cumbersome and the numeric values in the cells have varying types (e.g. integers, percentages, floats, strings etc.).\n",
    "\n",
    "However, the answers to our questions won't require we fix all the columns. We will only address the ones we want to work with as we re-clean the dataset with that in mind during each analysis."
   ]
  },
  {
   "cell_type": "markdown",
   "metadata": {},
   "source": [
    "<a id='eda'></a>\n",
    "## Exploratory Data Analysis\n",
    "\n",
    "### Research Question 1: \n",
    "### What was the highest year for gun sales in Maryland?"
   ]
  },
  {
   "cell_type": "markdown",
   "metadata": {},
   "source": [
    "To answer this question, will calculate the average gun sales per year and plot the results as a line graph."
   ]
  },
  {
   "cell_type": "code",
   "execution_count": 36,
   "metadata": {},
   "outputs": [
    {
     "data": {
      "image/png": "[encoded data removed]",
      "text/plain": [
       "<Figure size 720x360 with 1 Axes>"
      ]
     },
     "metadata": {
      "needs_background": "light"
     },
     "output_type": "display_data"
    }
   ],
   "source": [
    "pd.DataFrame(md_gun.groupby('year').mean()).reset_index().plot.line(x='year', y = 'totals', figsize= (10,5))\n",
    "plt.xlabel('Year');\n",
    "plt.ylabel('Gun Sales');\n",
    "plt.title('Averge sale of guns per year in Maryland');"
   ]
  },
  {
   "cell_type": "markdown",
   "metadata": {},
   "source": [
    "The answer to this is quite startling as the answer is resounding. 2013 is the highest year for gun sales in Maryland. After reviewing Maryland gun law legislation, it appears as though 2013 was the year the Maryland General Assembly approved the Firearm Safety Act of 2013. This is legislation imposing restrictions on gun ownership and was considered controversial at the time. More can be read about the law here:\n",
    "* [Maryland Gun Laws - Wikipedia](https://en.wikipedia.org/wiki/Gun_laws_in_Maryland#Laws_prohibiting_firearms)\n",
    "* [Firearm Safety Act of 2013](http://mgaleg.maryland.gov/2013RS/bills/sb/sb0281e.pdf)\n",
    "\n",
    "An interesting correlation to make is the link between media coverage of gun control and increases in gun sales, as we see is the case in Maryland in 2013. A [New York Times article published in 2016](https://www.nytimes.com/interactive/2015/12/10/us/gun-sales-terrorism-obama-restrictions.html) details the national trend of gun sales in relation to terrorist events and Barack Obamas elections in which he called for tighter gun control laws."
   ]
  },
  {
   "cell_type": "markdown",
   "metadata": {},
   "source": [
    "### Research Question 2:\n",
    "### What was the most sold gun type in Maryland during the second highest year for gun sales?"
   ]
  },
  {
   "cell_type": "markdown",
   "metadata": {},
   "source": [
    "Using the plot in question 1, the second highest year for gun sales in Maryland was 2016. For this question, we will isolate the 2016 gun sale data and plot a chart."
   ]
  },
  {
   "cell_type": "code",
   "execution_count": 37,
   "metadata": {},
   "outputs": [],
   "source": [
    "# Create new variable for 2016 gun dataset\n",
    "mdgun_16 = md_gun.query('year == \"2016\"')"
   ]
  },
  {
   "cell_type": "code",
   "execution_count": 38,
   "metadata": {},
   "outputs": [],
   "source": [
    "# Reset index for gun dataset\n",
    "mdgun_16.reset_index(inplace=True)"
   ]
  },
  {
   "cell_type": "code",
   "execution_count": 39,
   "metadata": {},
   "outputs": [],
   "source": [
    "# Select data to get the averages and store in new variables\n",
    "handgun_avg = mdgun_16['handgun'].mean()\n",
    "long_gun_avg = mdgun_16['long_gun'].mean()\n",
    "other_avg = mdgun_16['other'].mean()"
   ]
  },
  {
   "cell_type": "code",
   "execution_count": 40,
   "metadata": {},
   "outputs": [
    {
     "data": {
      "image/png": "[encoded data removed]",
      "text/plain": [
       "<Figure size 432x288 with 1 Axes>"
      ]
     },
     "metadata": {
      "needs_background": "light"
     },
     "output_type": "display_data"
    }
   ],
   "source": [
    "# Create bar chart\n",
    "locations = [1,2,3]\n",
    "heights = [handgun_avg, long_gun_avg, other_avg]\n",
    "labels = ['Handguns', 'Long Guns', 'Other']\n",
    "plt.bar(locations, heights, tick_label=labels)\n",
    "plt.title('2016 sales by gun type in Maryland')\n",
    "plt.xlabel('Gun Type')\n",
    "plt.ylabel('Average Sales');"
   ]
  },
  {
   "cell_type": "markdown",
   "metadata": {},
   "source": [
    "Long guns were the most sold gun type in Maryland in 2016. [Long guns](https://en.wikipedia.org/wiki/Long_gun) are defined as firearms with longer barrels and are generally designed to be held by both hands. According to the [FBI / NICS report](https://www.fbi.gov/file-repository/nics_firearm_checks_-_month_year_by_state_type.pdf/view) \"other\" includes all other firearms that do not fall into either the \"Handgun\" or \"Long Gun\" category."
   ]
  },
  {
   "cell_type": "markdown",
   "metadata": {},
   "source": [
    "### Research Question 3: \n",
    "### In 2016, what was Marylands gun-per-capita?"
   ]
  },
  {
   "cell_type": "markdown",
   "metadata": {},
   "source": [
    "To address this question, additional data cleaning will be required. At a high level, this will include gathering only the most pertinent information from both gun and census datasets and combining them. Then the gun per capita will need to be calculated and added to the new dataset. Let's get started!"
   ]
  },
  {
   "cell_type": "code",
   "execution_count": 41,
   "metadata": {},
   "outputs": [
    {
     "data": {
      "text/html": [
       "<div>\n",
       "<style scoped>\n",
       "    .dataframe tbody tr th:only-of-type {\n",
       "        vertical-align: middle;\n",
       "    }\n",
       "\n",
       "    .dataframe tbody tr th {\n",
       "        vertical-align: top;\n",
       "    }\n",
       "\n",
       "    .dataframe thead th {\n",
       "        text-align: right;\n",
       "    }\n",
       "</style>\n",
       "<table border=\"1\" class=\"dataframe\">\n",
       "  <thead>\n",
       "    <tr style=\"text-align: right;\">\n",
       "      <th></th>\n",
       "      <th>year</th>\n",
       "      <th>totals</th>\n",
       "    </tr>\n",
       "  </thead>\n",
       "  <tbody>\n",
       "    <tr>\n",
       "      <th>0</th>\n",
       "      <td>2016</td>\n",
       "      <td>17984</td>\n",
       "    </tr>\n",
       "    <tr>\n",
       "      <th>1</th>\n",
       "      <td>2016</td>\n",
       "      <td>17647</td>\n",
       "    </tr>\n",
       "    <tr>\n",
       "      <th>2</th>\n",
       "      <td>2016</td>\n",
       "      <td>14405</td>\n",
       "    </tr>\n",
       "    <tr>\n",
       "      <th>3</th>\n",
       "      <td>2016</td>\n",
       "      <td>12161</td>\n",
       "    </tr>\n",
       "    <tr>\n",
       "      <th>4</th>\n",
       "      <td>2016</td>\n",
       "      <td>12510</td>\n",
       "    </tr>\n",
       "  </tbody>\n",
       "</table>\n",
       "</div>"
      ],
      "text/plain": [
       "   year  totals\n",
       "0  2016   17984\n",
       "1  2016   17647\n",
       "2  2016   14405\n",
       "3  2016   12161\n",
       "4  2016   12510"
      ]
     },
     "execution_count": 41,
     "metadata": {},
     "output_type": "execute_result"
    }
   ],
   "source": [
    "# Extract `year` and `totals` from mdgun_16\n",
    "newmdgun_16 = mdgun_16[['year', 'totals']]\n",
    "newmdgun_16.reset_index(drop=True, inplace = True)\n",
    "newmdgun_16.head()"
   ]
  },
  {
   "cell_type": "code",
   "execution_count": 42,
   "metadata": {},
   "outputs": [],
   "source": [
    "# Extract 2016 population estimates from census\n",
    "population = census['population_estimates__july_1__2016___(v2016)']\n",
    "population.reset_index(drop=True, inplace = True)"
   ]
  },
  {
   "cell_type": "code",
   "execution_count": 43,
   "metadata": {},
   "outputs": [],
   "source": [
    "# Create combined dataset by adding population to mdgun_16\n",
    "newmdgun_16['population'] = population"
   ]
  },
  {
   "cell_type": "markdown",
   "metadata": {},
   "source": [
    "#### NOTE\n",
    "This is starting to look good. Next, we will address the issue with population. In order to convert it to a float, we need to remove the commas. Then address the NaN backfill for the other rows."
   ]
  },
  {
   "cell_type": "code",
   "execution_count": 44,
   "metadata": {},
   "outputs": [],
   "source": [
    "# Remove comma from population\n",
    "newmdgun_16['population'] = newmdgun_16['population'].str.replace(\",\", \"\")"
   ]
  },
  {
   "cell_type": "code",
   "execution_count": 45,
   "metadata": {},
   "outputs": [
    {
     "data": {
      "text/html": [
       "<div>\n",
       "<style scoped>\n",
       "    .dataframe tbody tr th:only-of-type {\n",
       "        vertical-align: middle;\n",
       "    }\n",
       "\n",
       "    .dataframe tbody tr th {\n",
       "        vertical-align: top;\n",
       "    }\n",
       "\n",
       "    .dataframe thead th {\n",
       "        text-align: right;\n",
       "    }\n",
       "</style>\n",
       "<table border=\"1\" class=\"dataframe\">\n",
       "  <thead>\n",
       "    <tr style=\"text-align: right;\">\n",
       "      <th></th>\n",
       "      <th>year</th>\n",
       "      <th>totals</th>\n",
       "      <th>population</th>\n",
       "    </tr>\n",
       "  </thead>\n",
       "  <tbody>\n",
       "    <tr>\n",
       "      <th>0</th>\n",
       "      <td>2016</td>\n",
       "      <td>17984</td>\n",
       "      <td>6016447.0</td>\n",
       "    </tr>\n",
       "    <tr>\n",
       "      <th>1</th>\n",
       "      <td>2016</td>\n",
       "      <td>17647</td>\n",
       "      <td>NaN</td>\n",
       "    </tr>\n",
       "    <tr>\n",
       "      <th>2</th>\n",
       "      <td>2016</td>\n",
       "      <td>14405</td>\n",
       "      <td>NaN</td>\n",
       "    </tr>\n",
       "    <tr>\n",
       "      <th>3</th>\n",
       "      <td>2016</td>\n",
       "      <td>12161</td>\n",
       "      <td>NaN</td>\n",
       "    </tr>\n",
       "    <tr>\n",
       "      <th>4</th>\n",
       "      <td>2016</td>\n",
       "      <td>12510</td>\n",
       "      <td>NaN</td>\n",
       "    </tr>\n",
       "    <tr>\n",
       "      <th>5</th>\n",
       "      <td>2016</td>\n",
       "      <td>12228</td>\n",
       "      <td>NaN</td>\n",
       "    </tr>\n",
       "    <tr>\n",
       "      <th>6</th>\n",
       "      <td>2016</td>\n",
       "      <td>11647</td>\n",
       "      <td>NaN</td>\n",
       "    </tr>\n",
       "    <tr>\n",
       "      <th>7</th>\n",
       "      <td>2016</td>\n",
       "      <td>11176</td>\n",
       "      <td>NaN</td>\n",
       "    </tr>\n",
       "    <tr>\n",
       "      <th>8</th>\n",
       "      <td>2016</td>\n",
       "      <td>13007</td>\n",
       "      <td>NaN</td>\n",
       "    </tr>\n",
       "    <tr>\n",
       "      <th>9</th>\n",
       "      <td>2016</td>\n",
       "      <td>14546</td>\n",
       "      <td>NaN</td>\n",
       "    </tr>\n",
       "    <tr>\n",
       "      <th>10</th>\n",
       "      <td>2016</td>\n",
       "      <td>14735</td>\n",
       "      <td>NaN</td>\n",
       "    </tr>\n",
       "    <tr>\n",
       "      <th>11</th>\n",
       "      <td>2016</td>\n",
       "      <td>13321</td>\n",
       "      <td>NaN</td>\n",
       "    </tr>\n",
       "  </tbody>\n",
       "</table>\n",
       "</div>"
      ],
      "text/plain": [
       "    year  totals  population\n",
       "0   2016   17984   6016447.0\n",
       "1   2016   17647         NaN\n",
       "2   2016   14405         NaN\n",
       "3   2016   12161         NaN\n",
       "4   2016   12510         NaN\n",
       "5   2016   12228         NaN\n",
       "6   2016   11647         NaN\n",
       "7   2016   11176         NaN\n",
       "8   2016   13007         NaN\n",
       "9   2016   14546         NaN\n",
       "10  2016   14735         NaN\n",
       "11  2016   13321         NaN"
      ]
     },
     "execution_count": 45,
     "metadata": {},
     "output_type": "execute_result"
    }
   ],
   "source": [
    "# Convert population to float\n",
    "newmdgun_16.astype({'population': float})"
   ]
  },
  {
   "cell_type": "code",
   "execution_count": 46,
   "metadata": {},
   "outputs": [],
   "source": [
    "# Fill missing NaN values in 'population' to '0'\n",
    "newmdgun_16['population'].fillna('0', inplace= True )"
   ]
  },
  {
   "cell_type": "code",
   "execution_count": 47,
   "metadata": {},
   "outputs": [],
   "source": [
    "# Add new column `state`\n",
    "newmdgun_16['state'] = 'Maryland'"
   ]
  },
  {
   "cell_type": "code",
   "execution_count": 48,
   "metadata": {},
   "outputs": [],
   "source": [
    "# Reorder columns\n",
    "newmdgun_16 = newmdgun_16[['state', 'year', 'totals', 'population']]"
   ]
  },
  {
   "cell_type": "markdown",
   "metadata": {},
   "source": [
    "#### NOTE\n",
    "A `state` column was added so that later on the data will be crystal clear at a glance. It was also an opportunity to rearrange the columns in a more meaningful way.\n",
    "\n",
    "In the cells below, you will see I take the `sum` of the `totals` column and create a new row with that value. Then, a new column is created in order to store the value from `sum`. At this point, we no longer need the `totals` column or the remaining rows other than the first."
   ]
  },
  {
   "cell_type": "code",
   "execution_count": 49,
   "metadata": {},
   "outputs": [
    {
     "data": {
      "text/html": [
       "<div>\n",
       "<style scoped>\n",
       "    .dataframe tbody tr th:only-of-type {\n",
       "        vertical-align: middle;\n",
       "    }\n",
       "\n",
       "    .dataframe tbody tr th {\n",
       "        vertical-align: top;\n",
       "    }\n",
       "\n",
       "    .dataframe thead th {\n",
       "        text-align: right;\n",
       "    }\n",
       "</style>\n",
       "<table border=\"1\" class=\"dataframe\">\n",
       "  <thead>\n",
       "    <tr style=\"text-align: right;\">\n",
       "      <th></th>\n",
       "      <th>state</th>\n",
       "      <th>year</th>\n",
       "      <th>totals</th>\n",
       "      <th>population</th>\n",
       "    </tr>\n",
       "  </thead>\n",
       "  <tbody>\n",
       "    <tr>\n",
       "      <th>8</th>\n",
       "      <td>Maryland</td>\n",
       "      <td>2016.0</td>\n",
       "      <td>13007.0</td>\n",
       "      <td>0</td>\n",
       "    </tr>\n",
       "    <tr>\n",
       "      <th>9</th>\n",
       "      <td>Maryland</td>\n",
       "      <td>2016.0</td>\n",
       "      <td>14546.0</td>\n",
       "      <td>0</td>\n",
       "    </tr>\n",
       "    <tr>\n",
       "      <th>10</th>\n",
       "      <td>Maryland</td>\n",
       "      <td>2016.0</td>\n",
       "      <td>14735.0</td>\n",
       "      <td>0</td>\n",
       "    </tr>\n",
       "    <tr>\n",
       "      <th>11</th>\n",
       "      <td>Maryland</td>\n",
       "      <td>2016.0</td>\n",
       "      <td>13321.0</td>\n",
       "      <td>0</td>\n",
       "    </tr>\n",
       "    <tr>\n",
       "      <th>total_sum</th>\n",
       "      <td>NaN</td>\n",
       "      <td>NaN</td>\n",
       "      <td>165367.0</td>\n",
       "      <td>NaN</td>\n",
       "    </tr>\n",
       "  </tbody>\n",
       "</table>\n",
       "</div>"
      ],
      "text/plain": [
       "              state    year    totals population\n",
       "8          Maryland  2016.0   13007.0          0\n",
       "9          Maryland  2016.0   14546.0          0\n",
       "10         Maryland  2016.0   14735.0          0\n",
       "11         Maryland  2016.0   13321.0          0\n",
       "total_sum       NaN     NaN  165367.0        NaN"
      ]
     },
     "execution_count": 49,
     "metadata": {},
     "output_type": "execute_result"
    }
   ],
   "source": [
    "# Sum `totals` column to one row\n",
    "newmdgun_16.loc['total_sum'] = pd.Series(newmdgun_16['totals'].sum(), index = ['totals'])\n",
    "newmdgun_16.tail()"
   ]
  },
  {
   "cell_type": "code",
   "execution_count": 50,
   "metadata": {},
   "outputs": [],
   "source": [
    "# Create new column for `total_gun_sales` with its value assigned\n",
    "newmdgun_16['total_gun_sales'] = '496101.0'"
   ]
  },
  {
   "cell_type": "code",
   "execution_count": 51,
   "metadata": {},
   "outputs": [],
   "source": [
    "# Drop original `totals` column\n",
    "newmdgun_16.drop('totals', axis=1, inplace=True)"
   ]
  },
  {
   "cell_type": "code",
   "execution_count": 52,
   "metadata": {},
   "outputs": [],
   "source": [
    "# Drop all remaining rows except first\n",
    "newmdgun_16.drop(newmdgun_16.index[1:], inplace=True)"
   ]
  },
  {
   "cell_type": "code",
   "execution_count": 53,
   "metadata": {},
   "outputs": [],
   "source": [
    "# Convert `year` to integer, and `population` and `total_gun_sales` to floats\n",
    "newmdgun_16.year = newmdgun_16.year.astype(int)\n",
    "newmdgun_16.population = newmdgun_16.population.astype(float)\n",
    "newmdgun_16.total_gun_sales = newmdgun_16.total_gun_sales.astype(float)"
   ]
  },
  {
   "cell_type": "code",
   "execution_count": 54,
   "metadata": {},
   "outputs": [
    {
     "data": {
      "text/html": [
       "<div>\n",
       "<style scoped>\n",
       "    .dataframe tbody tr th:only-of-type {\n",
       "        vertical-align: middle;\n",
       "    }\n",
       "\n",
       "    .dataframe tbody tr th {\n",
       "        vertical-align: top;\n",
       "    }\n",
       "\n",
       "    .dataframe thead th {\n",
       "        text-align: right;\n",
       "    }\n",
       "</style>\n",
       "<table border=\"1\" class=\"dataframe\">\n",
       "  <thead>\n",
       "    <tr style=\"text-align: right;\">\n",
       "      <th></th>\n",
       "      <th>state</th>\n",
       "      <th>year</th>\n",
       "      <th>population</th>\n",
       "      <th>total_gun_sales</th>\n",
       "      <th>guns_per_1000</th>\n",
       "    </tr>\n",
       "  </thead>\n",
       "  <tbody>\n",
       "    <tr>\n",
       "      <th>0</th>\n",
       "      <td>Maryland</td>\n",
       "      <td>2016</td>\n",
       "      <td>6016447.0</td>\n",
       "      <td>496101.0</td>\n",
       "      <td>82.45747</td>\n",
       "    </tr>\n",
       "  </tbody>\n",
       "</table>\n",
       "</div>"
      ],
      "text/plain": [
       "      state  year  population  total_gun_sales  guns_per_1000\n",
       "0  Maryland  2016   6016447.0         496101.0       82.45747"
      ]
     },
     "execution_count": 54,
     "metadata": {},
     "output_type": "execute_result"
    }
   ],
   "source": [
    "# Create gun per capita column based on formula\n",
    "newmdgun_16['guns_per_1000'] = newmdgun_16['total_gun_sales']/newmdgun_16['population'] * 1000\n",
    "newmdgun_16.head()"
   ]
  },
  {
   "cell_type": "markdown",
   "metadata": {},
   "source": [
    "#### NOTE\n",
    "After correcting the datatypes, I create a new gun per capita column and provide the formula which outputs the new data that is small but meaningul and easy to read. \n",
    "\n",
    "The gun per capita of Maryland in 2016 is 82.\n",
    "\n",
    "So in 2016, for every 1000 people in Maryland, 82 of them have firearms."
   ]
  },
  {
   "cell_type": "markdown",
   "metadata": {},
   "source": [
    "## Results and Conclusions\n",
    "I first investigated what year had the most gun sales in Maryland. After calculating the average and plotting the results, it became clear that 2013 had the most sales. Without additional data and doing statistical tests, it is difficult to draw any correlations. However, I do link to a few sources that could help explain the very significant increase in 2013.\n",
    "\n",
    "Next, I looked at the most sold gun types in Maryland. Using the data analysis from the first question, I was able to see 2016 was the second highest year after 2013 for gun sales. Therefore, I decided to investigate what type of gun was sold the most in 2016. Each gun type sale was averaged and a bar chart was used to illustrate the results. The long gun was the most sold gun type in 2016, followed by handguns.\n",
    "\n",
    "Then, I was curious about gun per capita in Maryland. This was calculated as an estimate of the total number of gun sales per 1000 persons. "
   ]
  },
  {
   "cell_type": "markdown",
   "metadata": {},
   "source": [
    "## Limitations\n",
    "While this data analysis is clear, it certainly has limitations. The quality of the census data was poor and difficult to parse due to poorly formatted column names, incorrect datatypes, and limited availability of years for population estimates. As well, the gun data was not without obstacles. The definitions of what the columns describe and how the gun sale estimates are being calculated is important. In addition, this data does not account for unregistered or illegal weapons. While in the end, I was able to clean this dataset, it makes it difficult to dig deeper into more meaningful analysis."
   ]
  }
 ],
 "metadata": {
  "kernelspec": {
   "display_name": "Python 3",
   "language": "python",
   "name": "python3"
  },
  "language_info": {
   "codemirror_mode": {
    "name": "ipython",
    "version": 3
   },
   "file_extension": ".py",
   "mimetype": "text/x-python",
   "name": "python",
   "nbconvert_exporter": "python",
   "pygments_lexer": "ipython3",
   "version": "3.8.5"
  }
 },
 "nbformat": 4,
 "nbformat_minor": 2
}
